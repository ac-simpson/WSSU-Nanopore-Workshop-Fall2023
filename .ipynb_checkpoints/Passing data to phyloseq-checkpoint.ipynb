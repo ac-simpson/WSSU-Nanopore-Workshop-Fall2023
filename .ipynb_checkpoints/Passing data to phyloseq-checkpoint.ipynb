{
 "cells": [
  {
   "cell_type": "markdown",
   "id": "11755dbf-45f0-4ca7-891e-3dd86658ce18",
   "metadata": {
    "tags": []
   },
   "source": [
    "## Passing data to phyloseq"
   ]
  },
  {
   "cell_type": "markdown",
   "id": "e892ed4a",
   "metadata": {},
   "source": [
    "What is a biom file?\n",
    "http://biom-format.org/ Known as a biological observation matrix, it's a very handy format for storing information about microbial taxa detected in metagenomic data and how many reads are assigned to each taxon. "
   ]
  },
  {
   "cell_type": "code",
   "execution_count": null,
   "id": "984f851c",
   "metadata": {},
   "outputs": [],
   "source": [
    "We can convert the "
   ]
  },
  {
   "cell_type": "code",
   "execution_count": 1,
   "id": "6ec2b48b",
   "metadata": {
    "tags": []
   },
   "outputs": [
    {
     "name": "stdout",
     "output_type": "stream",
     "text": [
      "usage: kraken-biom [-h] [--max {D,P,C,O,F,G,S}] [--min {D,P,C,O,F,G,S}]\n",
      "                   [-o OUTPUT_FP] [--otu_fp OTU_FP] [--fmt {hdf5,json,tsv}]\n",
      "                   [--gzip] [--version] [-v]\n",
      "                   kraken_reports [kraken_reports ...]\n",
      "\n",
      "Create BIOM-format tables (http://biom-format.org) from Kraken output \n",
      "(http://ccb.jhu.edu/software/kraken/).\n",
      "\n",
      "The program takes as input, one or more files output from the kraken-report\n",
      "tool. Each file is parsed and the counts for each OTU (operational taxonomic\n",
      "unit) are recorded, along with database ID (e.g. NCBI), and lineage. The\n",
      "extracted data are then stored in a BIOM table where each count is linked\n",
      "to the Sample and OTU it belongs to. Sample IDs are extracted from the input\n",
      "filenames (everything up to the '.').\n",
      "\n",
      "OTUs are defined by the --max and --min arguments. By default these are\n",
      "set to Order and Species respectively. This means that counts assigned\n",
      "directly to an Order, Family, or Genus are recorded under the associated\n",
      "OTU ID, and counts assigned at or below the Species level are assigned to\n",
      "the OTU ID for the species. Setting a minimum rank below Species is not yet\n",
      "available.\n",
      "\n",
      "The BIOM format currently has two major versions. Version 1.0 uses the \n",
      "JSON (JavaScript Object Notation) format as a base. Version 2.x uses the\n",
      "HDF5 (Hierarchical Data Format v5) as a base. The output format can be\n",
      "specified with the --fmt option. Note that a tab-separated (tsv) output\n",
      "format is also available. The resulting file will not contain most of the\n",
      "metadata, but can be opened by spreadsheet programs.\n",
      "\n",
      "Version 2 of the BIOM format is used by default for output, but requires the\n",
      "Python library 'h5py'. If the library is not installed, kraken-biom will \n",
      "automatically switch to using version 1.0. Note that the output can \n",
      "optionally be compressed with gzip (--gzip) for version 1.0 and TSV files. \n",
      "Version 2 files are automatically compressed.\n",
      "\n",
      "Usage examples\n",
      "--------------\n",
      "1. Basic usage with default parameters:\n",
      "\n",
      "$ kraken-biom.py S1.txt S2.txt\n",
      "\n",
      "  This produces a compressed BIOM 2.1 file: table.biom\n",
      "\n",
      "2. BIOM v1.0 output:\n",
      "\n",
      "$ kraken-biom.py S1.txt S2.txt --fmt json\n",
      "\n",
      "  Produces a BIOM 1.0 file: table.biom\n",
      "\n",
      "3. Compressed TSV output:\n",
      "\n",
      "$ kraken-biom.py S1.txt S2.txt --fmt tsv --gzip -o table.tsv\n",
      "\n",
      "  Produces a TSV file: table.tsv.gz\n",
      "\n",
      "4. Change the max and min OTU levels to Class and Genus:\n",
      "\n",
      "$ kraken-biom.py S1.txt S2.txt --max C --min G\n",
      "\n",
      "Program arguments\n",
      "-----------------\n",
      "\n",
      "positional arguments:\n",
      "  kraken_reports        Results files from the kraken-report tool.\n",
      "\n",
      "options:\n",
      "  -h, --help            show this help message and exit\n",
      "  --max {D,P,C,O,F,G,S}\n",
      "                        Assigned reads will be recorded only if they are at or\n",
      "                        below max rank. Default: O.\n",
      "  --min {D,P,C,O,F,G,S}\n",
      "                        Reads assigned at and below min rank will be recorded\n",
      "                        as being assigned to the min rank level. Default: S.\n",
      "  -o OUTPUT_FP, --output_fp OUTPUT_FP\n",
      "                        Path to the BIOM-format file. By default, the table\n",
      "                        will be in the HDF5 BIOM 2.x format. Users can output\n",
      "                        to a different format using the --fmt option. The\n",
      "                        output can also be gzipped using the --gzip option.\n",
      "                        Default path is: ./table.biom\n",
      "  --otu_fp OTU_FP       Create a file containing just the (NCBI) OTU IDs for\n",
      "                        use with a service such as phyloT\n",
      "                        (http://phylot.biobyte.de/) to generate a phylogenetic\n",
      "                        tree for use in downstream analysis such as UniFrac,\n",
      "                        iTol (itol.embl.de), or PhyloToAST (phylotoast.org).\n",
      "  --fmt {hdf5,json,tsv}\n",
      "                        Set the output format of the BIOM table. Default is\n",
      "                        HDF5.\n",
      "  --gzip                Compress the output BIOM table with gzip. HDF5 BIOM\n",
      "                        (v2.x) files are internally compressed by default, so\n",
      "                        this option is not needed when specifying --fmt hdf5.\n",
      "  --version             show program's version number and exit\n",
      "  -v, --verbose         Prints status messages during program execution.\n"
     ]
    }
   ],
   "source": [
    "kraken-biom --help"
   ]
  },
  {
   "cell_type": "code",
   "execution_count": 3,
   "id": "2ff94955-84dd-49cc-bff2-59089921dba9",
   "metadata": {
    "tags": []
   },
   "outputs": [],
   "source": [
    "cp ~/Epi2me_results/Zymo_16S_SRR25400687_Epi2me/bracken/Zymo_16S_SRR25400687.kreport_bracken_species.txt \\\n",
    "    unfiltered.txt\n",
    "cp ~/Epi2me_results/Zymo_16S_SRR25400687_Epi2me_filtered/bracken/Zymo_16S_SRR25400687.kreport_bracken_species.txt \\\n",
    "    filtered.txt"
   ]
  },
  {
   "cell_type": "code",
   "execution_count": 6,
   "id": "752537bc-8da8-44df-af2a-2805e1f3a7a8",
   "metadata": {
    "tags": []
   },
   "outputs": [],
   "source": [
    "cd .."
   ]
  },
  {
   "cell_type": "code",
   "execution_count": 9,
   "id": "d39f79ea-2a8c-4fa9-ae6f-49f1a3760af1",
   "metadata": {
    "tags": []
   },
   "outputs": [
    {
     "name": "stdout",
     "output_type": "stream",
     "text": [
      "/home/gl4u/Epi2me_results\n"
     ]
    }
   ],
   "source": [
    "pwd"
   ]
  },
  {
   "cell_type": "code",
   "execution_count": 8,
   "id": "e1d5f486-c636-47cd-9c5f-c0a4f29b2f89",
   "metadata": {
    "tags": []
   },
   "outputs": [],
   "source": [
    "cd Epi2me_results"
   ]
  },
  {
   "cell_type": "code",
   "execution_count": 10,
   "id": "6c5c40b6-a007-4993-8d3a-e373db3fd9a5",
   "metadata": {
    "tags": []
   },
   "outputs": [
    {
     "name": "stdout",
     "output_type": "stream",
     "text": [
      "Zymo_16S_SRR25400687_Epi2me\t      filtered.txt\n",
      "Zymo_16S_SRR25400687_Epi2me_filtered  unfiltered.txt\n"
     ]
    }
   ],
   "source": [
    "ls"
   ]
  },
  {
   "cell_type": "code",
   "execution_count": null,
   "id": "3c340440",
   "metadata": {
    "tags": []
   },
   "outputs": [],
   "source": [
    "kraken-biom ~/backup/Zymo_16S_SRR25400687_Epi2me/bracken/Zymo_16S_SRR25400687.kreport_bracken_species.txt \\\n",
    "    --fmt json -o ~/data/SRR25400687_unfiltered.biom"
   ]
  },
  {
   "cell_type": "code",
   "execution_count": 11,
   "id": "342a5e77-dc39-449e-a627-f060e5df02d4",
   "metadata": {
    "tags": []
   },
   "outputs": [],
   "source": [
    "kraken-biom unfiltered.txt filtered.txt --fmt json -o ~/data/Zymo_16S_table.biom"
   ]
  }
 ],
 "metadata": {
  "kernelspec": {
   "display_name": "Bash",
   "language": "bash",
   "name": "bash"
  },
  "language_info": {
   "codemirror_mode": "shell",
   "file_extension": ".sh",
   "mimetype": "text/x-sh",
   "name": "bash"
  }
 },
 "nbformat": 4,
 "nbformat_minor": 5
}
