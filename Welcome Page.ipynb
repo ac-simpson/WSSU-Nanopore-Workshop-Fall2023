{
 "cells": [
  {
   "cell_type": "markdown",
   "id": "7d5f13bf-4d38-47c8-ba5e-fa8542c0841a",
   "metadata": {},
   "source": [
    "<hr style=\"height:0px; visibility:hidden;\" />\n",
    "\n",
    "<h1><center>Welcome Page!</center></h1>\n",
    "\n",
    "\n",
    "1. [Intro to Jupyter and Bash](Notebooks/Intro%20to%20jupyter%20notebooks%20and%20bash.ipynb)\n",
    "2. [Organizing and Visualizing Nanopore data](Notebooks/Organizing%20and%20visualizing%20Nanopore%20data.ipynb)\n",
    "3. [Filtering and assigning taxonomy to reads using Epi2me](Notebooks/Filtering%20and%20assigning%20taxonomy%20to%20reads%20using%20Epi2me.ipynb)\n",
    "4. [Passing data from Epi2me/Bracken to Phyloseq](Notebooks/Passing%20data%20to%20phyloseq.ipynb)\n",
    "5. [Analysis of Bracken data in R with phyloseq](Notebooks/Analysis%20of%20Bracken%20data%20in%20R%20with%20phyloseq.ipynb)\n",
    "\n",
    "---"
   ]
  }
 ],
 "metadata": {
  "kernelspec": {
   "display_name": "Python 3 (ipykernel)",
   "language": "python",
   "name": "python3"
  },
  "language_info": {
   "codemirror_mode": {
    "name": "ipython",
    "version": 3
   },
   "file_extension": ".py",
   "mimetype": "text/x-python",
   "name": "python",
   "nbconvert_exporter": "python",
   "pygments_lexer": "ipython3",
   "version": "3.10.8"
  }
 },
 "nbformat": 4,
 "nbformat_minor": 5
}
