{
 "cells": [
  {
   "cell_type": "markdown",
   "id": "cf3a0ad6",
   "metadata": {},
   "source": [
    "# Intro to jupyter notebooks and bash"
   ]
  },
  {
   "cell_type": "markdown",
   "id": "8edba07e",
   "metadata": {},
   "source": [
    "1. Quick introduction to Jupyter \n",
    "2. Quick introduction to bash/Unix and some basic commands"
   ]
  },
  {
   "cell_type": "markdown",
   "id": "21fe552e",
   "metadata": {},
   "source": [
    "## 1. Quick introduction to Jupyter\n",
    "\n",
    "Jupyter Notebooks, or Jupyter Lab as it is now called, is an open-source platform that was originally created as an interactive development environment for Python in notebook format. (See details for what it does and how to install it on your computer at https://jupyter.org/)\n",
    "\n",
    "However, it now supports many different programming languages! [See the list here.](https://github.com/jupyter/jupyter/wiki/Jupyter-kernels)\n",
    "\n",
    "It's a great platform for documenting workflows, creating training material, showing the steps in data processing/statistics, and testing out code. And it even lets you put in commands as if you were in a Terminal or Command Prompt window, which is very convenient both for the ability to edit and for documenting your code with comprehensible notes that Future You will be able to understand.\n",
    "\n",
    "This [cheat sheet](https://images.datacamp.com/image/upload/v1676302533/Marketing/Blog/Jupyterlab_Cheat_Sheet.pdf) is a good resource for navigating a Jupyter Notebook. For now, we'll just learn how to create and run code or markdown cells."
   ]
  },
  {
   "cell_type": "markdown",
   "id": "b0305150",
   "metadata": {},
   "source": [
    "#### Using cells\n",
    "A Jupyter Notebook is a series of cells which can contain code (the actual code you want to run) or markdown (notes, headings, lists etc. which you might add to organize, add metadata, etc). The text you're reading now is a markdown cell. Try double-clicking on it and you can see text in this cell as code.\n",
    "\n",
    "(you will also notice an option called 'raw nbconvert' - that option is if you want to include code that will be processed in a certain way if you are converting your Jupyter Notebook to html or LATex. Like permanent press on a washing machine, most people don't mess with it or really know what it does, and you can ignore it)"
   ]
  },
  {
   "cell_type": "markdown",
   "id": "cd921bee",
   "metadata": {},
   "source": [
    "##### Try the following:"
   ]
  },
  {
   "cell_type": "markdown",
   "id": "43271088",
   "metadata": {},
   "source": [
    "A. Run the cell below by clicking inside it so that the cursor is now in the cell, and pressing Control+Enter or Command+Enter. (you can also use the button in the toolbar above that says \"Run\", or go to the \"Cell\" dropdown menu and select Run Cells). The command 'pwd' stands for Present Working Directory - it basically shows you where in the computer's file system you are currently working"
   ]
  },
  {
   "cell_type": "code",
   "execution_count": null,
   "id": "3de98e52",
   "metadata": {},
   "outputs": [],
   "source": [
    "pwd"
   ]
  },
  {
   "cell_type": "markdown",
   "id": "7bd11846",
   "metadata": {},
   "source": [
    "Run the command below - echo is the equivalent of a print command in bash. It will print whatever you give it."
   ]
  },
  {
   "cell_type": "code",
   "execution_count": null,
   "id": "312b464a",
   "metadata": {},
   "outputs": [],
   "source": [
    "echo \"Hello World\""
   ]
  },
  {
   "cell_type": "markdown",
   "id": "d56d8404",
   "metadata": {},
   "source": [
    "B. Create a new cell below this one by typing \"b\" or using the \"+\" button in the toolbar at the top of the page, and run the command \"ls\" which will list everything in your present working directory. By default it will be a 'code' cell."
   ]
  },
  {
   "cell_type": "markdown",
   "id": "e72f7e0e",
   "metadata": {},
   "source": [
    "C. Convert the cell below to a markdown cell and run it. What happens if you run it as a coding cell?"
   ]
  },
  {
   "cell_type": "code",
   "execution_count": null,
   "id": "251928f0-037f-4776-8dfd-39805b4292c9",
   "metadata": {},
   "outputs": [],
   "source": [
    "Meow"
   ]
  },
  {
   "cell_type": "markdown",
   "id": "6a6af06a",
   "metadata": {},
   "source": [
    "## 2. Quick introduction to bash"
   ]
  },
  {
   "cell_type": "markdown",
   "id": "be482a94",
   "metadata": {},
   "source": [
    "Bash is a scripting language used in Unix-based operating systems such as macOS and Linux. (The new default in macOS is actually zsh which is a new and improved version of bash). When you open a Terminal window on a Mac or Linux machine and type in commands, they are in bash. (Windows, on the other hand, uses Windows Powershell).\n",
    "\n",
    "The operating system that this ACCESS instance is using is Linux. Most of the time, if you are using remote computing resources from your university or from an AWS instance, you will be using Linux. So, it's good to get acquainted with the basic commands you might need to use in a bash shell. Here is a link to one of the many [cheat sheets](https://icosbigdatacamp.github.io/2018-summer-camp/slides/BASH_Cheat_Sheet.pdf) available for bash that show some of those commands."
   ]
  },
  {
   "cell_type": "markdown",
   "id": "9875f6a3",
   "metadata": {},
   "source": [
    "#### A. Showing the contents of a folder\n",
    "\n",
    "\"ls\" --> show all the files in the current directory"
   ]
  },
  {
   "cell_type": "code",
   "execution_count": null,
   "id": "68709616",
   "metadata": {},
   "outputs": [],
   "source": [
    "ls"
   ]
  },
  {
   "cell_type": "markdown",
   "id": "e7bc6fe9",
   "metadata": {},
   "source": [
    "#### B. Making a new folder\n",
    "\n",
    "\"mkdir name_of_new_directory\" -> make a new directory. Run \"ls\" again and it should appear on the list."
   ]
  },
  {
   "cell_type": "code",
   "execution_count": null,
   "id": "e5cacb4c",
   "metadata": {},
   "outputs": [],
   "source": [
    "mkdir my_new_directory"
   ]
  },
  {
   "cell_type": "code",
   "execution_count": null,
   "id": "fc53141a",
   "metadata": {},
   "outputs": [],
   "source": [
    "ls"
   ]
  },
  {
   "cell_type": "markdown",
   "id": "48614442",
   "metadata": {},
   "source": [
    "#### C. Changing the folder you are working in\n",
    "\n",
    "\"cd destination_folder\" --> change directory. Let's change the directory we're in to the new directory we created. But if we run the command \"ls\", we won't see anything - because there's nothing inside this folder yet"
   ]
  },
  {
   "cell_type": "code",
   "execution_count": null,
   "id": "909b4d22",
   "metadata": {},
   "outputs": [],
   "source": [
    "cd my_new_directory\n",
    "ls"
   ]
  },
  {
   "cell_type": "markdown",
   "id": "f6d077ee",
   "metadata": {},
   "source": [
    "#### D. Printing output\n",
    "\n",
    "The 'echo' command outputs whatever you give it as a printed statement. Try running the following - what do you see? What happens if you replace \"Hello world\" with something else?"
   ]
  },
  {
   "cell_type": "code",
   "execution_count": null,
   "id": "fd0b38af",
   "metadata": {},
   "outputs": [],
   "source": [
    "echo \"Hello world\""
   ]
  },
  {
   "cell_type": "markdown",
   "id": "7a582bc7",
   "metadata": {},
   "source": [
    "#### E. Sending the output of the 'echo' command to a file\n",
    "\n",
    "\">\" allows you to send output of another command to a file."
   ]
  },
  {
   "cell_type": "code",
   "execution_count": null,
   "id": "053a778a",
   "metadata": {},
   "outputs": [],
   "source": [
    "echo \"Unicorns are pretty\" > my_unicorn_file.txt"
   ]
  },
  {
   "cell_type": "code",
   "execution_count": null,
   "id": "d1fe6622",
   "metadata": {},
   "outputs": [],
   "source": [
    "ls"
   ]
  },
  {
   "cell_type": "markdown",
   "id": "258bbac2",
   "metadata": {},
   "source": [
    "What did it do? Has something appeared in our folder? Let's investigate using the \"cat\" command."
   ]
  },
  {
   "cell_type": "markdown",
   "id": "98478060",
   "metadata": {},
   "source": [
    "#### F. Displaying the contents of a file\n",
    "\n",
    "\"cat\" --> print the contents of a file"
   ]
  },
  {
   "cell_type": "code",
   "execution_count": null,
   "id": "d07d36bf",
   "metadata": {},
   "outputs": [],
   "source": [
    "cat my_unicorn_file.txt"
   ]
  },
  {
   "cell_type": "markdown",
   "id": "73a0350a",
   "metadata": {},
   "source": [
    "Let's make a second file"
   ]
  },
  {
   "cell_type": "code",
   "execution_count": null,
   "id": "81736799",
   "metadata": {},
   "outputs": [],
   "source": [
    "echo \"Kitties are also pretty\" > my_cat_file.txt"
   ]
  },
  {
   "cell_type": "code",
   "execution_count": null,
   "id": "f86b7b72",
   "metadata": {},
   "outputs": [],
   "source": [
    "cat my_cat_file.txt"
   ]
  },
  {
   "cell_type": "markdown",
   "id": "313ba94d",
   "metadata": {},
   "source": [
    "#### G. Adding to a file\n",
    "\n",
    "\">>\" means append - Let's add a second line to our cats file"
   ]
  },
  {
   "cell_type": "code",
   "execution_count": null,
   "id": "bb655f6f",
   "metadata": {},
   "outputs": [],
   "source": [
    "echo \"Very very pretty\" >> my_cat_file.txt"
   ]
  },
  {
   "cell_type": "code",
   "execution_count": null,
   "id": "5307dd77",
   "metadata": {},
   "outputs": [],
   "source": [
    "cat my_cat_file.txt"
   ]
  },
  {
   "cell_type": "markdown",
   "id": "860b1fcb",
   "metadata": {},
   "source": [
    "Now, let's combine the files into a new file called unicorns_and_cats.txt"
   ]
  },
  {
   "cell_type": "code",
   "execution_count": null,
   "id": "bc48a5eb",
   "metadata": {},
   "outputs": [],
   "source": [
    "cat my_unicorn_file.txt my_cat_file.txt > unicorns_and_cats.txt"
   ]
  },
  {
   "cell_type": "markdown",
   "id": "c80a5c33",
   "metadata": {},
   "source": [
    "What are the contents of this new file?"
   ]
  },
  {
   "cell_type": "code",
   "execution_count": null,
   "id": "9fb8aeab",
   "metadata": {},
   "outputs": [],
   "source": [
    "cat unicorns_and_cats.txt"
   ]
  },
  {
   "cell_type": "markdown",
   "id": "08528979",
   "metadata": {},
   "source": [
    "What if we do it the other way?"
   ]
  },
  {
   "cell_type": "code",
   "execution_count": null,
   "id": "3046a34a",
   "metadata": {},
   "outputs": [],
   "source": [
    "cat my_cat_file.txt my_unicorn_file.txt > cats_and_unicorns.txt"
   ]
  },
  {
   "cell_type": "code",
   "execution_count": null,
   "id": "59026223",
   "metadata": {},
   "outputs": [],
   "source": [
    "cat cats_and_unicorns.txt"
   ]
  },
  {
   "cell_type": "markdown",
   "id": "d6c5229f",
   "metadata": {},
   "source": [
    "#### H. Using wildcards\n",
    "\n",
    "Let's try combining another way - we'll select the files we want to combine using the wildcard symbol \"*\". \"*\" means any number of characters. We can try this out using the \"ls\" command."
   ]
  },
  {
   "cell_type": "markdown",
   "id": "bbba5eb3",
   "metadata": {},
   "source": [
    "Here we see all the files:"
   ]
  },
  {
   "cell_type": "code",
   "execution_count": null,
   "id": "b44be2d7",
   "metadata": {},
   "outputs": [],
   "source": [
    "ls"
   ]
  },
  {
   "cell_type": "markdown",
   "id": "a6aa929b",
   "metadata": {},
   "source": [
    "Here we see just files with the name \"cat\" in them - there could be any number of characters before or after"
   ]
  },
  {
   "cell_type": "code",
   "execution_count": null,
   "id": "00f6a061",
   "metadata": {},
   "outputs": [],
   "source": [
    "ls *cat*"
   ]
  },
  {
   "cell_type": "markdown",
   "id": "9e6a7591",
   "metadata": {},
   "source": [
    "Just files that start with \"cat\""
   ]
  },
  {
   "cell_type": "code",
   "execution_count": null,
   "id": "6834ea50",
   "metadata": {},
   "outputs": [],
   "source": [
    "ls cat*"
   ]
  },
  {
   "cell_type": "markdown",
   "id": "bf304c6f",
   "metadata": {},
   "source": [
    "Now, let's combine the \"my_cat_file.txt\" and \"my_unicorn_file.txt\" files using wildcards"
   ]
  },
  {
   "cell_type": "code",
   "execution_count": null,
   "id": "34e418dc",
   "metadata": {},
   "outputs": [],
   "source": [
    "cat my*.txt > cat_unicorn_fun.txt"
   ]
  },
  {
   "cell_type": "markdown",
   "id": "8dd0ae10",
   "metadata": {},
   "source": [
    "In what order were these files combined? Looks like alphabetical order."
   ]
  },
  {
   "cell_type": "code",
   "execution_count": null,
   "id": "29549283",
   "metadata": {},
   "outputs": [],
   "source": [
    "cat cat_unicorn_fun.txt"
   ]
  },
  {
   "cell_type": "markdown",
   "id": "ba9d4f12",
   "metadata": {},
   "source": [
    "#### I. Navigating around in folders\n",
    "\n",
    "Well, we've had our fun - let's get out of this file and delete this whole directory. To get back to the parent directory, we can use \"..\"\n",
    "\n",
    "\".\" refers to the current directory (sometimes you will see filepaths that go \"./path/to/file\"; \"..\" refers to the parent directory of the current directory.\n",
    "\n",
    "To reiterate: Let's say you're currently working in a folder called My_Subdirectory, which is nested within a folder called My_Directory.\n",
    "\n",
    ">My_Directory\n",
    ">> My_Subdirectory <-- my current working directory\n",
    "\n",
    "The command \"cd ..\" should take you back to My_Directory from My_Subdirectory."
   ]
  },
  {
   "cell_type": "code",
   "execution_count": null,
   "id": "aff3c5e2",
   "metadata": {},
   "outputs": [],
   "source": [
    "cd .."
   ]
  },
  {
   "cell_type": "code",
   "execution_count": null,
   "id": "2a75bd76",
   "metadata": {},
   "outputs": [],
   "source": [
    "ls"
   ]
  },
  {
   "cell_type": "markdown",
   "id": "878aee4e",
   "metadata": {},
   "source": [
    "Another important command for navigating around in folders is \"pwd\" - meaning \"present working directory\", which you've already used above. Try it again - it will tell you what folder you are currently working in."
   ]
  },
  {
   "cell_type": "code",
   "execution_count": null,
   "id": "7073153d",
   "metadata": {},
   "outputs": [],
   "source": [
    "pwd"
   ]
  },
  {
   "cell_type": "markdown",
   "id": "6a827e60",
   "metadata": {},
   "source": [
    "#### J. Deleting files and folders\n",
    "\n",
    "\"rm\" --> remove. You can use this command to remove individual files, like so:"
   ]
  },
  {
   "cell_type": "markdown",
   "id": "679f0675",
   "metadata": {},
   "source": [
    "First, let's look at the contents of \"my_new_directory\":"
   ]
  },
  {
   "cell_type": "code",
   "execution_count": null,
   "id": "6f5ceb8d",
   "metadata": {},
   "outputs": [],
   "source": [
    "ls my_new_directory"
   ]
  },
  {
   "cell_type": "code",
   "execution_count": null,
   "id": "4d42fff5-5d45-4fa7-9e41-c238f79a4c88",
   "metadata": {
    "tags": []
   },
   "outputs": [],
   "source": [
    "pwd"
   ]
  },
  {
   "cell_type": "markdown",
   "id": "64586dad",
   "metadata": {},
   "source": [
    "Now let's remove \"my_unicorn_file.txt\""
   ]
  },
  {
   "cell_type": "code",
   "execution_count": null,
   "id": "273a97cb",
   "metadata": {},
   "outputs": [],
   "source": [
    "rm my_new_directory/my_unicorn_file.txt"
   ]
  },
  {
   "cell_type": "markdown",
   "id": "6d407e85",
   "metadata": {},
   "source": [
    "Let's look in \"my_new_directory\" again - my_unicorn_file.txt should be missing."
   ]
  },
  {
   "cell_type": "code",
   "execution_count": null,
   "id": "3cb20949",
   "metadata": {},
   "outputs": [],
   "source": [
    "ls my_new_directory"
   ]
  },
  {
   "cell_type": "markdown",
   "id": "8e859fb5",
   "metadata": {},
   "source": [
    "Now, try removing just the file \"cat_unicorn_fun.txt\", then display the contents of \"my_new_directory\" again."
   ]
  },
  {
   "cell_type": "code",
   "execution_count": null,
   "id": "8801c758",
   "metadata": {},
   "outputs": [],
   "source": [
    "rm my_new_directory/cat_unicorn_fun.txt"
   ]
  },
  {
   "cell_type": "code",
   "execution_count": null,
   "id": "8206cd62-3622-4a20-897c-3708b913eee3",
   "metadata": {
    "tags": []
   },
   "outputs": [],
   "source": [
    "pwd"
   ]
  },
  {
   "cell_type": "code",
   "execution_count": null,
   "id": "c69db309-131b-42c8-8dcc-e23467aad044",
   "metadata": {
    "tags": []
   },
   "outputs": [],
   "source": [
    "ls output"
   ]
  },
  {
   "cell_type": "markdown",
   "id": "e0abd16a",
   "metadata": {},
   "source": [
    "Now let's remove the whole folder \"my_new_directory\". You can still use the 'rm' command but you need to add the tag '-r' - this stands for 'recursive'. It will go through every file in the folder and delete it."
   ]
  },
  {
   "cell_type": "code",
   "execution_count": null,
   "id": "7b6076af",
   "metadata": {},
   "outputs": [],
   "source": [
    "ls"
   ]
  },
  {
   "cell_type": "code",
   "execution_count": null,
   "id": "24010f31",
   "metadata": {},
   "outputs": [],
   "source": [
    "rm -r my_new_directory"
   ]
  },
  {
   "cell_type": "code",
   "execution_count": null,
   "id": "fff36258",
   "metadata": {},
   "outputs": [],
   "source": [
    "ls"
   ]
  },
  {
   "cell_type": "markdown",
   "id": "94f3cbf8",
   "metadata": {},
   "source": [
    "#### K. Moving and renaming files\n",
    "\n",
    "Moving a file from one location to another is obviously pretty handy, and we use the same method to rename a file (basically we move it to its exact same location while changing its name)."
   ]
  },
  {
   "cell_type": "markdown",
   "id": "8900eddc",
   "metadata": {},
   "source": [
    "Let's try putting a few things into practice. Create two new directories called \"lion\" and \"mouse\". Within the folder \"lion\", create a text file called \"lion_type.txt\" that contains the line of text \"Small lion\". Within the folder \"mouse\", create a text file called \"mouse_type.txt\" that contains the line of text \"Large mouse\". Use the commands you've learned above to do it. There's no one exact right way."
   ]
  },
  {
   "cell_type": "code",
   "execution_count": null,
   "id": "35892bcf",
   "metadata": {},
   "outputs": [],
   "source": []
  },
  {
   "cell_type": "markdown",
   "id": "b59aa0e8",
   "metadata": {},
   "source": [
    "Once you've accomplished this task, check that everything is in order by using the ls and cat commands to display the contents of your new folders and the text files within them."
   ]
  },
  {
   "cell_type": "code",
   "execution_count": null,
   "id": "8a80dd19",
   "metadata": {},
   "outputs": [],
   "source": []
  },
  {
   "cell_type": "markdown",
   "id": "bb10d9b7",
   "metadata": {},
   "source": [
    "Now that you've created your files and folders, let's try moving a file. Navigate to the parent directory that contains the folders \"lion\" and \"mouse\". (should be able to see these two folders using 'ls')\n",
    "\n",
    "Let's try moving a file - we'll move the file \"lion_type.txt\" from the folder \"lion\" to the folder \"mouse\" using the \"mv\" command, like so:"
   ]
  },
  {
   "cell_type": "code",
   "execution_count": null,
   "id": "b8450502",
   "metadata": {},
   "outputs": [],
   "source": [
    "mv lion/lion_type.txt mouse"
   ]
  },
  {
   "cell_type": "markdown",
   "id": "d4cfae1c",
   "metadata": {},
   "source": [
    "We've said \"move the file lion_type.txt that is in the folder lion to the folder mouse.\"\n",
    "\n",
    "Now let's try renaming a file - you also use the \"mv\" command, but you don't move the file to a new location. Rename the file \"mouse_type.txt\" to \"type_of_mouse.txt\" like so:"
   ]
  },
  {
   "cell_type": "code",
   "execution_count": null,
   "id": "ed6e2df9",
   "metadata": {},
   "outputs": [],
   "source": [
    "mv mouse/mouse_type.txt mouse/type_of_mouse.txt"
   ]
  },
  {
   "cell_type": "markdown",
   "id": "63e4c404",
   "metadata": {},
   "source": [
    "These are some basic operations to become familiar with as they are some of the most useful for combining files together, moving files around or copying them, etc."
   ]
  }
 ],
 "metadata": {
  "kernelspec": {
   "display_name": "Bash",
   "language": "bash",
   "name": "bash"
  },
  "language_info": {
   "codemirror_mode": "shell",
   "file_extension": ".sh",
   "mimetype": "text/x-sh",
   "name": "bash"
  }
 },
 "nbformat": 4,
 "nbformat_minor": 5
}
